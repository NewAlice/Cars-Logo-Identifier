{
  "nbformat": 4,
  "nbformat_minor": 0,
  "metadata": {
    "colab": {
      "name": "CarsModelClassifier.ipynb",
      "version": "0.3.2",
      "provenance": [],
      "collapsed_sections": [],
      "include_colab_link": true
    },
    "kernelspec": {
      "name": "python3",
      "display_name": "Python 3"
    },
    "accelerator": "GPU"
  },
  "cells": [
    {
      "cell_type": "markdown",
      "metadata": {
        "id": "view-in-github",
        "colab_type": "text"
      },
      "source": [
        "<a href=\"https://colab.research.google.com/github/pankajsharma2711/Cars-Logo-Identifier/blob/master/CarsModelClassifier.ipynb\" target=\"_parent\"><img src=\"https://colab.research.google.com/assets/colab-badge.svg\" alt=\"Open In Colab\"/></a>"
      ]
    },
    {
      "cell_type": "code",
      "metadata": {
        "id": "Hf07Sa0kBm7y",
        "colab_type": "code",
        "outputId": "6e3f3667-e780-461e-d0c1-851eb76d3620",
        "colab": {
          "base_uri": "https://localhost:8080/",
          "height": 34
        }
      },
      "source": [
        "from google.colab import drive\n",
        "drive.mount(\"/content/drive\", force_remount = True)"
      ],
      "execution_count": 1,
      "outputs": [
        {
          "output_type": "stream",
          "text": [
            "Mounted at /content/drive\n"
          ],
          "name": "stdout"
        }
      ]
    },
    {
      "cell_type": "code",
      "metadata": {
        "id": "DUZFYYLZOStE",
        "colab_type": "code",
        "outputId": "f03c7649-ac66-41c2-fa1b-c8bb7fde749a",
        "colab": {
          "base_uri": "https://localhost:8080/",
          "height": 34
        }
      },
      "source": [
        "cd drive/My Drive/Colab Notebooks"
      ],
      "execution_count": 2,
      "outputs": [
        {
          "output_type": "stream",
          "text": [
            "/content/drive/My Drive/Colab Notebooks\n"
          ],
          "name": "stdout"
        }
      ]
    },
    {
      "cell_type": "code",
      "metadata": {
        "id": "FEnJQRFVEC34",
        "colab_type": "code",
        "colab": {
          "base_uri": "https://localhost:8080/",
          "height": 34
        },
        "outputId": "0253ac1c-247e-401f-acad-7eba4c446241"
      },
      "source": [
        "import numpy as np\n",
        "import pandas as pd\n",
        "import matplotlib.pyplot as plt\n",
        "import keras \n",
        "import os\n",
        "import re\n",
        "import cv2\n",
        "from tqdm import tqdm\n",
        "from random import shuffle\n",
        "from tensorflow.keras.models import Sequential\n",
        "from tensorflow.keras.layers import Dense, Activation, Flatten, MaxPooling2D, Dropout, Conv2D\n",
        "from PIL import Image\n",
        "%matplotlib inline"
      ],
      "execution_count": 3,
      "outputs": [
        {
          "output_type": "stream",
          "text": [
            "Using TensorFlow backend.\n"
          ],
          "name": "stderr"
        }
      ]
    },
    {
      "cell_type": "code",
      "metadata": {
        "id": "HYtkO2GPLyJ_",
        "colab_type": "code",
        "colab": {}
      },
      "source": [
        "TRAIN_DIR = '/content/drive/My Drive/Colab Notebooks/images/'\n",
        "image_train = os.listdir(TRAIN_DIR)\n",
        "imsize = 50\n",
        "n_samples = np.size(image_train)"
      ],
      "execution_count": 0,
      "outputs": []
    },
    {
      "cell_type": "code",
      "metadata": {
        "id": "ZQoEa_pnFbvq",
        "colab_type": "code",
        "outputId": "d1208dce-ab41-45d9-ad89-b5c413c7df20",
        "colab": {
          "base_uri": "https://localhost:8080/",
          "height": 51
        }
      },
      "source": [
        "images = np.array([np.array(Image.open(TRAIN_DIR + img).convert(\"RGB\")).flatten() for img in os.listdir(TRAIN_DIR)], order='F', dtype='uint8')\n",
        "cars = ['Alfa Romeo', 'Audi', 'BMW', 'Chevrolet', 'Citroen', 'Dacia', 'Daewoo', 'Dodge',\n",
        "        'Ferrari', 'Fiat', 'Ford', 'Honda', 'Hyundai', 'Jaguar', 'Jeep', 'Kia', 'Lada',\n",
        "        'Lancia', 'Land Rover', 'Lexus', 'Maserati', 'Mazda', 'Mercedes', 'Mitsubishi',\n",
        "        'Nissan', 'Opel', 'Peugeot', 'Porsche', 'Renault', 'Rover', 'Saab', 'Seat',\n",
        "        'Skoda', 'Subaru', 'Suzuki', 'Tata', 'Tesla', 'Toyota', 'Volkswagen', 'Volvo']\n",
        "labels = np.array([cars.index(re.match(r\"(^\\D+)\", image_train[i])[0]) for i in range(n_samples)])\n",
        "print(labels.shape)\n",
        "print(images.shape)"
      ],
      "execution_count": 5,
      "outputs": [
        {
          "output_type": "stream",
          "text": [
            "(20778,)\n",
            "(20778, 7500)\n"
          ],
          "name": "stdout"
        }
      ]
    },
    {
      "cell_type": "code",
      "metadata": {
        "id": "zHmDfrLXMvOV",
        "colab_type": "code",
        "colab": {
          "base_uri": "https://localhost:8080/",
          "height": 298
        },
        "outputId": "53515d9f-299b-486c-b4cf-0a161f17a12b"
      },
      "source": [
        "plt.imshow(images[1000].reshape(imsize, imsize, 3))\n",
        "plt.title(cars[labels[1000]])"
      ],
      "execution_count": 6,
      "outputs": [
        {
          "output_type": "execute_result",
          "data": {
            "text/plain": [
              "Text(0.5, 1.0, 'Audi')"
            ]
          },
          "metadata": {
            "tags": []
          },
          "execution_count": 6
        },
        {
          "output_type": "display_data",
          "data": {
            "image/png": "[encoded data removed]",
            "text/plain": [
              "<Figure size 432x288 with 1 Axes>"
            ]
          },
          "metadata": {
            "tags": []
          }
        }
      ]
    },
    {
      "cell_type": "code",
      "metadata": {
        "id": "TZ_3Y-Q6PiM5",
        "colab_type": "code",
        "colab": {
          "base_uri": "https://localhost:8080/",
          "height": 85
        },
        "outputId": "2e89d5f4-5b12-43e2-a393-3c8f1fb2971b"
      },
      "source": [
        "from sklearn.model_selection import train_test_split\n",
        "train_images, test_images, train_labels, test_labels = train_test_split(images, labels, test_size = 0.2)\n",
        "\n",
        "train_images = train_images.reshape(-1, imsize, imsize, 3)\n",
        "test_images = test_images.reshape(-1, imsize, imsize, 3)\n",
        "\n",
        "print(train_images.shape)\n",
        "print(train_labels.shape)\n",
        "print(test_images.shape)\n",
        "print(test_labels.shape)"
      ],
      "execution_count": 10,
      "outputs": [
        {
          "output_type": "stream",
          "text": [
            "(16622, 50, 50, 3)\n",
            "(16622,)\n",
            "(4156, 50, 50, 3)\n",
            "(4156,)\n"
          ],
          "name": "stdout"
        }
      ]
    },
    {
      "cell_type": "code",
      "metadata": {
        "id": "-7gD3h1EcjR3",
        "colab_type": "code",
        "colab": {}
      },
      "source": [
        "ntrain_images = train_images/255.0\n",
        "ntest_images = test_images/255.0"
      ],
      "execution_count": 0,
      "outputs": []
    },
    {
      "cell_type": "code",
      "metadata": {
        "id": "vaScH1mWe-Du",
        "colab_type": "code",
        "colab": {
          "base_uri": "https://localhost:8080/",
          "height": 921
        },
        "outputId": "f2a0ba16-6c90-44cf-f6eb-d594818cdff1"
      },
      "source": [
        "model = Sequential()\n",
        "\n",
        "model.add(Conv2D(32, (3,3), input_shape = (imsize,imsize,3)))\n",
        "model.add(Activation('relu'))\n",
        "model.add(MaxPooling2D(pool_size = (2,2)))\n",
        "  \n",
        "model.add(Conv2D(64, (3,3)))\n",
        "model.add(Activation('relu'))\n",
        "model.add(MaxPooling2D(pool_size = (2,2)))\n",
        "  \n",
        "model.add(Conv2D(128, (3,3)))\n",
        "model.add(Activation('relu'))\n",
        "model.add(MaxPooling2D(pool_size = (2,2)))\n",
        "\n",
        "model.add(Conv2D(256, (3,3)))\n",
        "model.add(Activation('relu'))\n",
        "model.add(MaxPooling2D(pool_size = (2,2)))\n",
        "\n",
        "model.add(Flatten())\n",
        "model.add(Dense(4096))\n",
        "model.add(Activation('relu'))\n",
        "model.add(Dropout(0.5))\n",
        "\n",
        "model.add(Dense(4096))\n",
        "model.add(Activation('relu'))\n",
        "model.add(Dropout(0.5))\n",
        "model.add(Dense(len(cars), activation = 'softmax'))\n",
        "\n",
        "model.summary()"
      ],
      "execution_count": 12,
      "outputs": [
        {
          "output_type": "stream",
          "text": [
            "WARNING: Logging before flag parsing goes to stderr.\n",
            "W0619 07:32:16.960197 140259907123072 deprecation.py:506] From /usr/local/lib/python3.6/dist-packages/tensorflow/python/ops/init_ops.py:1251: calling VarianceScaling.__init__ (from tensorflow.python.ops.init_ops) with dtype is deprecated and will be removed in a future version.\n",
            "Instructions for updating:\n",
            "Call initializer instance with the dtype argument instead of passing it to the constructor\n"
          ],
          "name": "stderr"
        },
        {
          "output_type": "stream",
          "text": [
            "Model: \"sequential\"\n",
            "_________________________________________________________________\n",
            "Layer (type)                 Output Shape              Param #   \n",
            "=================================================================\n",
            "conv2d (Conv2D)              (None, 48, 48, 32)        896       \n",
            "_________________________________________________________________\n",
            "activation (Activation)      (None, 48, 48, 32)        0         \n",
            "_________________________________________________________________\n",
            "max_pooling2d (MaxPooling2D) (None, 24, 24, 32)        0         \n",
            "_________________________________________________________________\n",
            "conv2d_1 (Conv2D)            (None, 22, 22, 64)        18496     \n",
            "_________________________________________________________________\n",
            "activation_1 (Activation)    (None, 22, 22, 64)        0         \n",
            "_________________________________________________________________\n",
            "max_pooling2d_1 (MaxPooling2 (None, 11, 11, 64)        0         \n",
            "_________________________________________________________________\n",
            "conv2d_2 (Conv2D)            (None, 9, 9, 128)         73856     \n",
            "_________________________________________________________________\n",
            "activation_2 (Activation)    (None, 9, 9, 128)         0         \n",
            "_________________________________________________________________\n",
            "max_pooling2d_2 (MaxPooling2 (None, 4, 4, 128)         0         \n",
            "_________________________________________________________________\n",
            "conv2d_3 (Conv2D)            (None, 2, 2, 256)         295168    \n",
            "_________________________________________________________________\n",
            "activation_3 (Activation)    (None, 2, 2, 256)         0         \n",
            "_________________________________________________________________\n",
            "max_pooling2d_3 (MaxPooling2 (None, 1, 1, 256)         0         \n",
            "_________________________________________________________________\n",
            "flatten (Flatten)            (None, 256)               0         \n",
            "_________________________________________________________________\n",
            "dense (Dense)                (None, 4096)              1052672   \n",
            "_________________________________________________________________\n",
            "activation_4 (Activation)    (None, 4096)              0         \n",
            "_________________________________________________________________\n",
            "dropout (Dropout)            (None, 4096)              0         \n",
            "_________________________________________________________________\n",
            "dense_1 (Dense)              (None, 4096)              16781312  \n",
            "_________________________________________________________________\n",
            "activation_5 (Activation)    (None, 4096)              0         \n",
            "_________________________________________________________________\n",
            "dropout_1 (Dropout)          (None, 4096)              0         \n",
            "_________________________________________________________________\n",
            "dense_2 (Dense)              (None, 40)                163880    \n",
            "=================================================================\n",
            "Total params: 18,386,280\n",
            "Trainable params: 18,386,280\n",
            "Non-trainable params: 0\n",
            "_________________________________________________________________\n"
          ],
          "name": "stdout"
        }
      ]
    },
    {
      "cell_type": "code",
      "metadata": {
        "id": "Zvcny0K6iItn",
        "colab_type": "code",
        "colab": {
          "base_uri": "https://localhost:8080/",
          "height": 1054
        },
        "outputId": "2675f4d0-68fd-42c7-e1a3-6f401977585d"
      },
      "source": [
        "model.compile(optimizer = 'adam', loss = 'sparse_categorical_crossentropy', metrics = ['accuracy'])\n",
        "model.fit(ntrain_images, train_labels, epochs = 30)"
      ],
      "execution_count": 13,
      "outputs": [
        {
          "output_type": "stream",
          "text": [
            "Epoch 1/30\n",
            "16622/16622 [==============================] - 9s 570us/sample - loss: 3.4864 - acc: 0.0698\n",
            "Epoch 2/30\n",
            "16622/16622 [==============================] - 6s 334us/sample - loss: 2.4027 - acc: 0.3528\n",
            "Epoch 3/30\n",
            "16622/16622 [==============================] - 6s 333us/sample - loss: 1.6315 - acc: 0.5709\n",
            "Epoch 4/30\n",
            "16622/16622 [==============================] - 6s 335us/sample - loss: 1.3086 - acc: 0.6561\n",
            "Epoch 5/30\n",
            "16622/16622 [==============================] - 6s 334us/sample - loss: 1.1160 - acc: 0.7071\n",
            "Epoch 6/30\n",
            "16622/16622 [==============================] - 6s 334us/sample - loss: 0.9590 - acc: 0.7465\n",
            "Epoch 7/30\n",
            "16622/16622 [==============================] - 6s 333us/sample - loss: 0.8615 - acc: 0.7706\n",
            "Epoch 8/30\n",
            "16622/16622 [==============================] - 5s 331us/sample - loss: 0.7604 - acc: 0.7950\n",
            "Epoch 9/30\n",
            "16622/16622 [==============================] - 6s 335us/sample - loss: 0.7017 - acc: 0.8119\n",
            "Epoch 10/30\n",
            "16622/16622 [==============================] - 6s 334us/sample - loss: 0.6430 - acc: 0.8273\n",
            "Epoch 11/30\n",
            "16622/16622 [==============================] - 6s 333us/sample - loss: 0.6153 - acc: 0.8355\n",
            "Epoch 12/30\n",
            "16622/16622 [==============================] - 6s 335us/sample - loss: 0.5489 - acc: 0.8485\n",
            "Epoch 13/30\n",
            "16622/16622 [==============================] - 6s 334us/sample - loss: 0.5219 - acc: 0.8582\n",
            "Epoch 14/30\n",
            "16622/16622 [==============================] - 6s 334us/sample - loss: 0.4789 - acc: 0.8655\n",
            "Epoch 15/30\n",
            "16622/16622 [==============================] - 6s 333us/sample - loss: 0.4700 - acc: 0.8735\n",
            "Epoch 16/30\n",
            "16622/16622 [==============================] - 6s 335us/sample - loss: 0.4548 - acc: 0.8768\n",
            "Epoch 17/30\n",
            "16622/16622 [==============================] - 6s 335us/sample - loss: 0.4515 - acc: 0.8785\n",
            "Epoch 18/30\n",
            "16622/16622 [==============================] - 6s 335us/sample - loss: 0.3887 - acc: 0.8947\n",
            "Epoch 19/30\n",
            "16622/16622 [==============================] - 6s 336us/sample - loss: 0.3944 - acc: 0.8911\n",
            "Epoch 20/30\n",
            "16622/16622 [==============================] - 6s 337us/sample - loss: 0.4173 - acc: 0.8909\n",
            "Epoch 21/30\n",
            "16622/16622 [==============================] - 6s 345us/sample - loss: 0.3627 - acc: 0.9024\n",
            "Epoch 22/30\n",
            "16622/16622 [==============================] - 6s 333us/sample - loss: 0.3385 - acc: 0.9104\n",
            "Epoch 23/30\n",
            "16622/16622 [==============================] - 6s 333us/sample - loss: 0.3441 - acc: 0.9071\n",
            "Epoch 24/30\n",
            "16622/16622 [==============================] - 6s 334us/sample - loss: 0.3549 - acc: 0.9063\n",
            "Epoch 25/30\n",
            "16622/16622 [==============================] - 6s 334us/sample - loss: 0.3668 - acc: 0.9046\n",
            "Epoch 26/30\n",
            "16622/16622 [==============================] - 6s 333us/sample - loss: 0.2953 - acc: 0.9228\n",
            "Epoch 27/30\n",
            "16622/16622 [==============================] - 6s 331us/sample - loss: 0.3057 - acc: 0.9216\n",
            "Epoch 28/30\n",
            "16622/16622 [==============================] - 6s 332us/sample - loss: 0.3303 - acc: 0.9125\n",
            "Epoch 29/30\n",
            "16622/16622 [==============================] - 6s 333us/sample - loss: 0.3120 - acc: 0.9188\n",
            "Epoch 30/30\n",
            "16622/16622 [==============================] - 6s 332us/sample - loss: 0.3021 - acc: 0.9226\n"
          ],
          "name": "stdout"
        },
        {
          "output_type": "execute_result",
          "data": {
            "text/plain": [
              "<tensorflow.python.keras.callbacks.History at 0x7f9071119438>"
            ]
          },
          "metadata": {
            "tags": []
          },
          "execution_count": 13
        }
      ]
    },
    {
      "cell_type": "code",
      "metadata": {
        "id": "FXTNm7JhqXuR",
        "colab_type": "code",
        "colab": {
          "base_uri": "https://localhost:8080/",
          "height": 51
        },
        "outputId": "e85fabc2-5cd7-4d4b-b04d-28cc41e60bc9"
      },
      "source": [
        "model.evaluate(ntest_images, test_labels)"
      ],
      "execution_count": 14,
      "outputs": [
        {
          "output_type": "stream",
          "text": [
            "4156/4156 [==============================] - 1s 169us/sample - loss: 1.5366 - acc: 0.7649\n"
          ],
          "name": "stdout"
        },
        {
          "output_type": "execute_result",
          "data": {
            "text/plain": [
              "[1.5365818689601483, 0.7649182]"
            ]
          },
          "metadata": {
            "tags": []
          },
          "execution_count": 14
        }
      ]
    },
    {
      "cell_type": "code",
      "metadata": {
        "id": "Q2dZsy4xqeQo",
        "colab_type": "code",
        "colab": {
          "base_uri": "https://localhost:8080/",
          "height": 439
        },
        "outputId": "2f835c6d-c130-4f36-f044-e7808ebbe0a0"
      },
      "source": [
        "predict = model.predict(ntest_images)\n",
        "print(predict[10])\n",
        "print(cars[test_labels[10]], test_labels[10])\n",
        "plt.imshow(test_images[10])"
      ],
      "execution_count": 25,
      "outputs": [
        {
          "output_type": "stream",
          "text": [
            "[1.5848767e-22 3.2834263e-17 1.5737049e-14 9.5808795e-15 3.5384288e-16\n",
            " 4.2039216e-19 1.4497849e-28 2.1319711e-20 1.0503509e-25 9.9843255e-25\n",
            " 1.8406518e-21 6.2035206e-19 1.6834941e-20 2.2357036e-26 2.9331321e-26\n",
            " 2.0539180e-23 7.6572306e-26 1.4183189e-22 8.2303956e-22 1.4937870e-21\n",
            " 5.4340952e-20 2.0486612e-14 3.2574995e-11 1.9079107e-20 5.5818730e-15\n",
            " 1.0000000e+00 1.4390089e-26 2.6539436e-24 2.3406652e-19 1.8840403e-31\n",
            " 4.3057551e-24 2.3673077e-19 1.6934299e-23 1.4536310e-24 7.1357395e-20\n",
            " 2.0529466e-23 1.0012311e-26 6.0459115e-28 6.5205105e-18 4.2114541e-17]\n",
            "Opel 25\n"
          ],
          "name": "stdout"
        },
        {
          "output_type": "execute_result",
          "data": {
            "text/plain": [
              "<matplotlib.image.AxesImage at 0x7f90613f83c8>"
            ]
          },
          "metadata": {
            "tags": []
          },
          "execution_count": 25
        },
        {
          "output_type": "display_data",
          "data": {
            "image/png": "[encoded data removed]",
            "text/plain": [
              "<Figure size 432x288 with 1 Axes>"
            ]
          },
          "metadata": {
            "tags": []
          }
        }
      ]
    }
  ]
}